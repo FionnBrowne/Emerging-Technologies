{
 "cells": [
  {
   "cell_type": "code",
   "execution_count": null,
   "id": "cb55682d-19c3-4477-9b60-baa30313f9c5",
   "metadata": {},
   "outputs": [],
   "source": [
    "clustering Algothrim"
   ]
  }
 ],
 "metadata": {
  "kernelspec": {
   "display_name": "Python 3",
   "language": "python",
   "name": "python3"
  },
  "language_info": {
   "codemirror_mode": {
    "name": "ipython",
    "version": 3
   },
   "file_extension": ".py",
   "mimetype": "text/x-python",
   "name": "python",
   "nbconvert_exporter": "python",
   "pygments_lexer": "ipython3",
   "version": "3.8.8"
  }
 },
 "nbformat": 4,
 "nbformat_minor": 5
}
