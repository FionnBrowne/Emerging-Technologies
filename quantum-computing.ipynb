{
 "cells": [
  {
   "cell_type": "markdown",
   "id": "810e98ab-c923-4385-8d9d-5b060b95956b",
   "metadata": {},
   "source": [
    "# Quantum Computing tests"
   ]
  },
  {
   "cell_type": "code",
   "execution_count": 2,
   "id": "33ad3d66-aeb2-4b0c-820d-0048e7b7a793",
   "metadata": {},
   "outputs": [],
   "source": [
    "import numpy"
   ]
  },
  {
   "cell_type": "code",
   "execution_count": 3,
   "id": "f3bd1db0-ff21-42f9-9aef-e1cb9596220a",
   "metadata": {},
   "outputs": [],
   "source": [
    "import qiskit"
   ]
  },
  {
   "cell_type": "code",
   "execution_count": null,
   "id": "17a57574-35a0-42e2-bfc0-9a1cc6c09cbf",
   "metadata": {},
   "outputs": [],
   "source": []
  },
  {
   "cell_type": "code",
   "execution_count": null,
   "id": "eb5ba448-4842-4a6b-8d1b-6b8a57fdcdf6",
   "metadata": {},
   "outputs": [],
   "source": []
  }
 ],
 "metadata": {
  "kernelspec": {
   "display_name": "Python 3 (ipykernel)",
   "language": "python",
   "name": "python3"
  },
  "language_info": {
   "codemirror_mode": {
    "name": "ipython",
    "version": 3
   },
   "file_extension": ".py",
   "mimetype": "text/x-python",
   "name": "python",
   "nbconvert_exporter": "python",
   "pygments_lexer": "ipython3",
   "version": "3.9.7"
  }
 },
 "nbformat": 4,
 "nbformat_minor": 5
}
