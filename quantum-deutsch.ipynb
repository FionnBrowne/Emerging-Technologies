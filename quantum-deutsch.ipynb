{
 "cells": [
  {
   "cell_type": "markdown",
   "id": "e8b767d8-d2da-47a0-9e59-1549f8b10723",
   "metadata": {},
   "source": [
    "# clear and concise comparison of quantum computing and classical computing.\n",
    "***\n"
   ]
  },
  {
   "cell_type": "markdown",
   "id": "044ef932-f401-448c-bb44-b716a039074d",
   "metadata": {},
   "source": [
    "->What is quantum computing\n",
    "\n",
    "\n",
    "->What is classical computing\n",
    "\n",
    "\n",
    "-> comparision \n"
   ]
  },
  {
   "cell_type": "markdown",
   "id": "1404ac1f-8262-4788-b887-09a2281d4000",
   "metadata": {},
   "source": [
    "# explanation of Deutsch’s algorithm [4] and code simulating it using qiskit [5]\n",
    "***"
   ]
  },
  {
   "cell_type": "code",
   "execution_count": 2,
   "id": "60b9b753-a588-46b5-934d-3c17d13ee5e9",
   "metadata": {},
   "outputs": [],
   "source": [
    "import numpy\n",
    "import qiskit"
   ]
  },
  {
   "cell_type": "code",
   "execution_count": null,
   "id": "e1f8d06d-e322-4b93-a18a-1b415322c540",
   "metadata": {},
   "outputs": [],
   "source": []
  }
 ],
 "metadata": {
  "kernelspec": {
   "display_name": "Python 3 (ipykernel)",
   "language": "python",
   "name": "python3"
  },
  "language_info": {
   "codemirror_mode": {
    "name": "ipython",
    "version": 3
   },
   "file_extension": ".py",
   "mimetype": "text/x-python",
   "name": "python",
   "nbconvert_exporter": "python",
   "pygments_lexer": "ipython3",
   "version": "3.9.7"
  }
 },
 "nbformat": 4,
 "nbformat_minor": 5
}
