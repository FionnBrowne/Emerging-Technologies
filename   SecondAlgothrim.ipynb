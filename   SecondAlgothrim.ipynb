{
 "cells": [
  {
   "cell_type": "markdown",
   "id": "7de6c6f7-273f-40eb-8e89-4ccd9f9a386d",
   "metadata": {},
   "source": [
    "Classfication algothrim"
   ]
  },
  {
   "cell_type": "code",
   "execution_count": null,
   "id": "ded561c8-a58c-49ab-a251-999e9f9ed67d",
   "metadata": {},
   "outputs": [],
   "source": []
  }
 ],
 "metadata": {
  "kernelspec": {
   "display_name": "Python 3 (ipykernel)",
   "language": "python",
   "name": "python3"
  },
  "language_info": {
   "codemirror_mode": {
    "name": "ipython",
    "version": 3
   },
   "file_extension": ".py",
   "mimetype": "text/x-python",
   "name": "python",
   "nbconvert_exporter": "python",
   "pygments_lexer": "ipython3",
   "version": "3.8.12"
  }
 },
 "nbformat": 4,
 "nbformat_minor": 5
}
