{
 "cells": [
  {
   "cell_type": "markdown",
   "id": "b56b7c27-2ba7-4658-974e-1fa5abd1030c",
   "metadata": {},
   "source": [
    "A clear and concise overview of the scikit-learn Python library"
   ]
  },
  {
   "cell_type": "markdown",
   "id": "84939ce8-bbef-4083-8e71-05922ccf89d6",
   "metadata": {},
   "source": [
    "1. What is sckit-learn\n",
    "2. Who uses it\n",
    "3. Why is it used \n",
    "4. Why are we using it\n",
    "5. Conclusion"
   ]
  },
  {
   "cell_type": "markdown",
   "id": "061902d5-4b39-4db2-b19f-9828ecab57d2",
   "metadata": {
    "tags": []
   },
   "source": [
    "# **What is sckit-learn**\n",
    "***"
   ]
  },
  {
   "cell_type": "markdown",
   "id": "29ccf794-3c66-46b5-86e7-bac23d3152e0",
   "metadata": {},
   "source": [
    "**Sklearn** or scikit-learn in Python is by far one of the most useful open-source libraries available that you can use for Machine Learning in Python. The scikit-learn library is an exhaustive collection of the most efficient tools for statistical modeling and Machine Learning. Some of these tools include regression, classification, dimensionality reduction, and clustering.\n",
    "The scikit-learn library is primarily written in Python and built upon SciPy, NumPy, and Matplotlib. The library uses a unified and consistent Python interface to implement various pre-processing, Machine Learning, visualization, and cross-validation algorithms."
   ]
  },
  {
   "cell_type": "markdown",
   "id": "25c79baa-d8a4-44d6-be65-d9818fe7140e",
   "metadata": {},
   "source": [
    "# **Who uses it**\n",
    "***"
   ]
  },
  {
   "cell_type": "markdown",
   "id": "02726ff9-8663-4631-bae5-694b7d40d229",
   "metadata": {},
   "source": [
    "Here are some of the bigger companies who use scikit-learn.\n",
    "\n",
    "| Spotify | Booking.com   | AWeber | OkCupid   |\n",
    "|------|------|------|------|\n",
    "| <img src=\"images/spotify.jpg\" width=\"300\"> | <img src=\"images/Booking.com.jpg\"  width=\"400\"> | <img src=\"images/AWeber.jpg\" width=\"300\"> | <img src=\"images/OkCupid.jpg\" width=\"320\"> |\n",
    "***\n",
    "1. Spotify uses scikit-learn\n",
    "   - for recommendations of music.\n",
    "     - It uses a toolbox with solid implementations of a bunch of state-of-the-art models which is provided by scikit-learn.\n",
    "       - This makes it easy to plug the models into existing applications.\n",
    "***\n",
    "2. Booking.com uses scikit-learn\n",
    "   - First nested list item\n",
    "     - Second nested list item\n",
    "***\n",
    "3. AWeber uses scikit-learn\n",
    "   - First nested list item\n",
    "     - Second nested list item\n",
    "***\n",
    "4. OkCupid uses scikit-learn\n",
    "   - First nested list item\n",
    "     - Second nested list item\n",
    "***\n"
   ]
  },
  {
   "cell_type": "markdown",
   "id": "16dca623-9052-484c-b3fc-92d17e4ff0c5",
   "metadata": {},
   "source": [
    "# **Why is it used**\n",
    "***"
   ]
  },
  {
   "cell_type": "code",
   "execution_count": null,
   "id": "c071b204-b78e-475f-a09b-f07308b8bc96",
   "metadata": {},
   "outputs": [],
   "source": []
  },
  {
   "cell_type": "markdown",
   "id": "8a8abc8c-8ba9-447d-a451-3c21dc448a7a",
   "metadata": {
    "tags": []
   },
   "source": [
    "# **Why are we using it**\n",
    "***"
   ]
  },
  {
   "cell_type": "code",
   "execution_count": null,
   "id": "b72eb005-8c53-4202-9d09-5370ca9eabff",
   "metadata": {},
   "outputs": [],
   "source": []
  },
  {
   "cell_type": "markdown",
   "id": "05eb218f-f4e3-40b2-b67d-0028bba9a3ac",
   "metadata": {
    "tags": []
   },
   "source": [
    "# **Conclusion**\n",
    "***"
   ]
  },
  {
   "cell_type": "code",
   "execution_count": null,
   "id": "2bff812d-7c8a-469e-a968-df1328c19cd9",
   "metadata": {},
   "outputs": [],
   "source": []
  }
 ],
 "metadata": {
  "kernelspec": {
   "display_name": "Python 3 (ipykernel)",
   "language": "python",
   "name": "python3"
  },
  "language_info": {
   "codemirror_mode": {
    "name": "ipython",
    "version": 3
   },
   "file_extension": ".py",
   "mimetype": "text/x-python",
   "name": "python",
   "nbconvert_exporter": "python",
   "pygments_lexer": "ipython3",
   "version": "3.8.12"
  }
 },
 "nbformat": 4,
 "nbformat_minor": 5
}
